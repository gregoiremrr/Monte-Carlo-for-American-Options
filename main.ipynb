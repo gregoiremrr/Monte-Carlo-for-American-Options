{
 "cells": [
  {
   "cell_type": "markdown",
   "metadata": {},
   "source": [
    "# Monte Carlo Project\n",
    "\n",
    "## Iacob Jessica, Mourre Grégoire\n",
    "\n",
    "In this Jupter file, we will implement the different methods presented and described in https://github.com/gregoiremrr/Monte-Carlo-for-American-Options.\n"
   ]
  },
  {
   "cell_type": "code",
   "execution_count": 508,
   "metadata": {},
   "outputs": [],
   "source": [
    "import numpy as np\n",
    "from numpy.random import default_rng\n",
    "from scipy.optimize import curve_fit\n",
    "import matplotlib.pyplot as plt\n",
    "from tqdm import tqdm"
   ]
  },
  {
   "cell_type": "markdown",
   "metadata": {},
   "source": [
    "# Methods for the lower bound"
   ]
  },
  {
   "cell_type": "code",
   "execution_count": 509,
   "metadata": {},
   "outputs": [],
   "source": [
    "n = 10000\n",
    "m = 12\n",
    "seed = 0\n",
    "rng = default_rng(seed=seed)\n",
    "\n",
    "r, sigma, x, K, T = 0.06, .4, 80, 100, 0.5\n",
    "dt = T/m\n",
    "t_index = np.linspace(start=0, stop=T, num=m+1).reshape(-1,1)\n",
    "\n",
    "def g(x,t=0):\n",
    "    return np.exp(-r*t*dt) * np.maximum(K-x,0)\n",
    "\n",
    "def phi(x):\n",
    "    # Canonical basis\n",
    "    #return np.array([1, x, x**2, x**3], dtype=object)\n",
    "    #return np.array([1, x, x**2, x**3, g(x)], dtype=object)\n",
    "    #return np.array([1, x, x**2, x**3, x**4, g(x)], dtype=object)\n",
    "    #return np.array([1, x, x**2, x**3, g(x), g(x)**2], dtype=object)\n",
    "    return np.array([1, x, x**2, x**3, g(x), g(x)**2, g(x)**3], dtype=object)\n",
    "    # Legendre's basis\n",
    "    #return np.array([1, x, (3*x**2-1)/2, (5*x**3-3*x)/2], dtype=object)\n",
    "    #return np.array([1, x, (3*x**2-1)/2, (5*x**3-3*x)/2, g(x)], dtype=object)\n",
    "    #return np.array([1, x, (3*x**2-1)/2, (5*x**3-3*x)/2, (35*x**4-30*x**2+3)/8, g(x)], dtype=object)\n",
    "    #return np.array([1, x, (3*x**2-1)/2, (5*x**3-3*x)/2, g(x), g(x)**2], dtype=object)\n",
    "    #return np.array([1, x, (3*x**2-1)/2, (5*x**3-3*x)/2, g(x), g(x)**2, g(x)**3], dtype=object)\n",
    "    # Hermite's basis\n",
    "    #return np.array([1, x, x**2-1, x**3-3*x], dtype=object)\n",
    "    #return np.array([1, x, x**2-1, x**3-3*x, g(x)], dtype=object)\n",
    "    #return np.array([1, x, x**2-1, x**3-3*x, x**4-6*x**2+3, g(x)], dtype=object)\n",
    "    #return np.array([1, x, x**2-1, x**3-3*x, g(x), g(x)**2], dtype=object)\n",
    "    #return np.array([1, x, x**2-1, x**3-3*x, g(x), g(x)**2, g(x)**3], dtype=object)\n",
    "    # Laguerre's basis\n",
    "    #return np.array([1, 1-x, (x**2-4*x+2)/2, (-x**3+9*x**2-18*x+6)/6], dtype=object)\n",
    "    #return np.array([1, 1-x, (x**2-4*x+2)/2, (-x**3+9*x**2-18*x+6)/6, g(x)], dtype=object)\n",
    "    #return np.array([1, 1-x, (x**2-4*x+2)/2, (-x**3+9*x**2-18*x+6)/6, (x**4-16*x**3+72*x**2-96*x+24)/24, g(x)], dtype=object)\n",
    "    #return np.array([1, 1-x, (x**2-4*x+2)/2, (-x**3+9*x**2-18*x+6)/6, g(x), g(x)**2], dtype=object)\n",
    "    #return np.array([1, 1-x, (x**2-4*x+2)/2, (-x**3+9*x**2-18*x+6)/6, g(x), g(x)**2, g(x)**3], dtype=object)\n",
    "l = len(phi(0))\n",
    "\n",
    "def reg(x, *alphas):\n",
    "    alpha = np.array(alphas)\n",
    "    return np.sum(alpha * phi(x))"
   ]
  },
  {
   "cell_type": "markdown",
   "metadata": {},
   "source": [
    "# Tsitsiklis & Van Roy's algorithm"
   ]
  },
  {
   "cell_type": "code",
   "execution_count": 510,
   "metadata": {},
   "outputs": [
    {
     "name": "stdout",
     "output_type": "stream",
     "text": [
      "Estimator: 21.531342843544135\n"
     ]
    }
   ],
   "source": [
    "rng = default_rng(seed=seed)\n",
    "\n",
    "# Step 1\n",
    "B = rng.normal(size=m*n).reshape(m,n)\n",
    "W = np.concatenate([[np.zeros(n)],np.cumsum(B * np.sqrt(dt), axis=0)])\n",
    "X = x * np.exp((r-sigma**2/2) * t_index + sigma * W)\n",
    "\n",
    "\n",
    "# Step 2\n",
    "V = np.zeros(n*(m+1)).reshape(m+1,n)\n",
    "V[-1,:] = g(X[-1,:],m)\n",
    "\n",
    "# Step 3\n",
    "alpha0 = np.zeros(l)\n",
    "for i in range(m-1, 0, -1):\n",
    "    alpha_star = curve_fit(reg, X[i,:], V[i+1,:], p0=alpha0)[0]\n",
    "    _1 = g(X[i,:],i)\n",
    "    _2 = reg(X[i,:], alpha_star)\n",
    "    V[i,:] = _1 * (_1 >= _2) + _2 * (_1 < _2)\n",
    "\n",
    "# Step 4\n",
    "_1 = g(x)\n",
    "_2 = np.mean(V[1,:])\n",
    "V0 = _1 * (_1 >= _2) + _2 * (_1 < _2)\n",
    "\n",
    "print(\"Estimator:\", V0)"
   ]
  },
  {
   "cell_type": "markdown",
   "metadata": {},
   "source": [
    "# Longstaff and Schwartz's algorithm\n",
    "Approximation of the Value Functions (Steps 2 to 4 in Longstaff & Schwartz's algorithm)"
   ]
  },
  {
   "cell_type": "code",
   "execution_count": 511,
   "metadata": {},
   "outputs": [],
   "source": [
    "rng = default_rng(seed=seed)\n",
    "\n",
    "# Step 2\n",
    "V2 = np.zeros(n*(m+1)).reshape((m+1),n)\n",
    "V2[-1,:] = g(X[-1,:],m)\n",
    "\n",
    "alpha_tau = np.zeros(l*(m+1)).reshape((m+1),l)\n",
    "\n",
    "# Step 3\n",
    "alpha0 = np.zeros(l)\n",
    "for i in range(m-1, 0, -1):\n",
    "    alpha_tau[i,:] = curve_fit(reg, X[i,:], V2[i+1,:], p0=alpha0)[0]\n",
    "    _1 = g(X[i,:],i)\n",
    "    _2 = reg(X[i,:], alpha_tau[i,:])\n",
    "    V2[i,:] = _1 * (_1 >= _2) + V2[(i+1),:] * (_1 < _2)\n",
    "\n",
    "# Step 4 (not used)\n",
    "_1 = g(x)\n",
    "_2 = np.mean(V2[1,:])\n",
    "V02 = np.mean(_1 * (_1 >= _2) + V2[1,:] * (_1 < _2))"
   ]
  },
  {
   "cell_type": "markdown",
   "metadata": {},
   "source": [
    "Longstaff & Schwartz's algorithm (Step 5)"
   ]
  },
  {
   "cell_type": "code",
   "execution_count": 512,
   "metadata": {},
   "outputs": [
    {
     "name": "stdout",
     "output_type": "stream",
     "text": [
      "Estimator: 21.531230445278087\n",
      "Standard deviation: 0.1172144816938878\n",
      "Condidence interval 95%: [21.30149006 21.76097083]\n",
      "Error: 1.0670100099662598 %\n"
     ]
    }
   ],
   "source": [
    "rng = default_rng(seed=seed)\n",
    "\n",
    "# Step 5\n",
    "B2 = rng.normal(size=m*n).reshape(m,n)\n",
    "W2 = np.concatenate([[np.zeros(n)],np.cumsum(B2 * np.sqrt(dt), axis=0)])\n",
    "X2 = x * np.exp((r-sigma**2/2) * t_index + sigma * W2)\n",
    "\n",
    "V3 = np.zeros(n*(m+1)).reshape((m+1),n)\n",
    "V3[-1,:] = g(X2[-1,:],m)\n",
    "\n",
    "for i in range(m-1, 0, -1):\n",
    "    _1 = g(X2[i,:],i)\n",
    "    _2 = reg(X2[i,:], alpha_tau[i,:])\n",
    "    V3[i,:] = _1 * (_1 >= _2) + V3[(i+1),:] * (_1 < _2)\n",
    "\n",
    "_1 = g(x)\n",
    "_2 = np.mean(V3[1,:])\n",
    "V03_ = _1 * (_1 >= _2) + V3[1,:] * (_1 < _2)\n",
    "\n",
    "V03 = np.mean(V03_)\n",
    "std = np.std(V03_)\n",
    "conv_interval = V03 + np.array([-1,1]) * 1.96 * std / np.sqrt(n)\n",
    "final_lowerbound = conv_interval[0]\n",
    "\n",
    "print(\"Estimator:\", V03)\n",
    "print(\"Standard deviation:\", std / np.sqrt(n))\n",
    "print(\"Condidence interval 95%:\", conv_interval)\n",
    "print(\"Error:\", 100 * 1.96 * std / (V03 * np.sqrt(n)), \"%\")"
   ]
  },
  {
   "cell_type": "markdown",
   "metadata": {},
   "source": [
    "# Martingales from Approximate Value Functions"
   ]
  },
  {
   "cell_type": "code",
   "execution_count": 513,
   "metadata": {},
   "outputs": [
    {
     "name": "stdout",
     "output_type": "stream",
     "text": [
      "21.269277564786055\n"
     ]
    }
   ],
   "source": [
    "rng = default_rng(seed=seed)\n",
    "\n",
    "# One trajectory (just to get the idea of the true method)\n",
    "\n",
    "n2 = 1000\n",
    "\n",
    "B_upperbound = rng.normal(size=m)\n",
    "W_upperbound = np.concatenate([[0],np.cumsum(B_upperbound * np.sqrt(dt), axis=0)])\n",
    "X_upperbound = x * np.exp((r-sigma**2/2) * t_index.ravel() + sigma * W_upperbound)\n",
    "\n",
    "Normal = rng.normal(size=m*n2).reshape(m,n2)\n",
    "M = np.zeros(m+1)\n",
    "Mi = 0\n",
    "\n",
    "for i in range(1, m):\n",
    "    V_upperbound = max(g(X_upperbound[i],i), reg(X_upperbound[i], alpha_tau[i,:]))\n",
    "    X_next = X_upperbound[i-1] * np.exp((r-sigma**2/2) * dt + sigma * np.sqrt(dt) * Normal[i-1,:])\n",
    "    V_Ynext = np.maximum(g(X_next,i), reg(X_next, alpha_tau[i,:]))\n",
    "    delta = V_upperbound - np.mean(V_Ynext)\n",
    "    Mi += delta\n",
    "    M[i] = Mi\n",
    "\n",
    "X_next = X_upperbound[-2] * np.exp((r-sigma**2/2) * dt + sigma * np.sqrt(dt) * Normal[-1,:])\n",
    "delta = g(X_upperbound[-1],m) - np.mean(g(X_next,m))\n",
    "Mi += delta\n",
    "M[-1] = Mi\n",
    "\n",
    "V0_upperbound = np.max(g(X_upperbound,np.arange(0,m+1)) - M)\n",
    "print(V0_upperbound)"
   ]
  },
  {
   "cell_type": "code",
   "execution_count": 514,
   "metadata": {},
   "outputs": [
    {
     "name": "stderr",
     "output_type": "stream",
     "text": [
      "100%|██████████| 11/11 [00:05<00:00,  2.01it/s]"
     ]
    },
    {
     "name": "stdout",
     "output_type": "stream",
     "text": [
      "Estimator: 21.66003253343968\n",
      "Standard deviation: 0.005499261659263224\n",
      "Condidence interval 95%: [21.64925398 21.67081109]\n",
      "Error: 0.04976240379840395 %\n"
     ]
    },
    {
     "name": "stderr",
     "output_type": "stream",
     "text": [
      "\n"
     ]
    }
   ],
   "source": [
    "rng = default_rng(seed=seed)\n",
    "\n",
    "# Monte-Carlo method for n trajectories\n",
    "\n",
    "n2 = 1000\n",
    "\n",
    "Normal = rng.normal(size=m*n*n2).reshape(m,n2,n)\n",
    "M = np.zeros(n*(m+1)).reshape(m+1,n)\n",
    "Mi = np.zeros(n)\n",
    "\n",
    "for i in tqdm(range(1, m)):\n",
    "    V_upperbound = np.maximum(g(X2[i,:],i), reg(X2[i,:], alpha_tau[i,:]))\n",
    "    X_next = X2[i-1] * np.exp((r-sigma**2/2) * dt + sigma * np.sqrt(dt) * Normal[i-1,:,:])\n",
    "    V_Ynext = np.maximum(g(X_next,i), reg(X_next, alpha_tau[i,:]))\n",
    "    Mi += V_upperbound - np.mean(V_Ynext, axis=0)\n",
    "    M[i,:] = Mi\n",
    "\n",
    "X_next = X2[-2,:] * np.exp((r-sigma**2/2) * dt + sigma * np.sqrt(dt) * Normal[-1,:,:])\n",
    "Mi += g(X2[-1,:],m) - np.mean(g(X_next,m), axis=0)\n",
    "M[-1,:] = Mi\n",
    "\n",
    "V0_upperbound_ = np.max(g(X2.T,np.arange(0,m+1)).T - M, axis=0)\n",
    "V0_upperbound = np.mean(V0_upperbound_)\n",
    "std_upperbound = np.std(V0_upperbound_)\n",
    "conv_interval_upperbound = V0_upperbound + np.array([-1,1]) * 1.96 * std_upperbound / np.sqrt(n)\n",
    "final_upperbound = conv_interval_upperbound[1]\n",
    "\n",
    "print(\"Estimator:\", V0_upperbound)\n",
    "print(\"Standard deviation:\", std_upperbound / np.sqrt(n))\n",
    "print(\"Condidence interval 95%:\", conv_interval_upperbound)\n",
    "print(\"Error:\", 100 * 1.96 * std_upperbound / (V0_upperbound * np.sqrt(n)), \"%\")"
   ]
  },
  {
   "cell_type": "markdown",
   "metadata": {},
   "source": [
    "# Martingales from Stopping Rules"
   ]
  },
  {
   "cell_type": "code",
   "execution_count": 515,
   "metadata": {},
   "outputs": [
    {
     "name": "stderr",
     "output_type": "stream",
     "text": [
      "100%|██████████| 12/12 [00:20<00:00,  1.68s/it]\n"
     ]
    },
    {
     "name": "stdout",
     "output_type": "stream",
     "text": [
      "Estimator: 21.702571200371178\n",
      "Standard deviation: 0.005791111011285802\n",
      "Condidence interval 95%: [21.69122062 21.71392178]\n",
      "Error: 0.05230061211330594 %\n"
     ]
    }
   ],
   "source": [
    "rng = default_rng(seed=seed)\n",
    "\n",
    "# Step 1\n",
    "\n",
    "n_subpaths = 500\n",
    "Normal = rng.normal(size=m*m*n*n_subpaths).reshape(n,m,m,n_subpaths)\n",
    "t_index_tilde = np.concatenate([t_index, [[0]]])\n",
    "\n",
    "subpaths = np.zeros(m*(m+1)*n*n_subpaths).reshape(n,m,m+1,n_subpaths)\n",
    "for k in range(n):\n",
    "    for i in range(m):\n",
    "        subpaths[k,i,i+1:,:] = X2[i,k] * np.exp((r-sigma**2/2) * t_index_tilde[1:-i-1] + sigma * np.cumsum(np.sqrt(dt) * Normal[k,i,i:,:], axis=0))\n",
    "\n",
    "subpaths_values = np.zeros(m*(m+1)*n*n_subpaths).reshape(n,m,m+1,n_subpaths)\n",
    "for i in tqdm(range(m)):\n",
    "    subpaths_values[:,i,m,:] = g(subpaths[:,i,m,:],m)\n",
    "    for j in range(m-1,i,-1):\n",
    "        _1 = g(subpaths[:,i,j,:],j)\n",
    "        _2 = reg(subpaths[:,i,j,:], alpha_tau[j,:])\n",
    "        subpaths_values[:,i,j,:] =  _1 * (_1 >= _2) + subpaths_values[:,i,j+1,:] * (_1 < _2)\n",
    "\n",
    "# approximation of E[ h_{\\tau_{i+1}}(X_{\\tau_{i+1}}) | X_i ] = V_iplus1[:,i]\n",
    "V_iplus1 = np.zeros(n*m).reshape(n,m)\n",
    "for i in range(m):\n",
    "    V_iplus1[:,i] = np.mean(subpaths_values[:,i,i+1,:], axis = 1)\n",
    "\n",
    "# approximation of E[ h_{\\tau_i}(X_{\\tau_i}) | X_i ] = V_i[:,i]\n",
    "V_i = np.zeros(n*(m+1)).reshape(n,m+1)\n",
    "for i in range(1,m):\n",
    "    _1 = g(X2[i,:],i)\n",
    "    _2 = reg(X2[i,:], alpha_tau[i,:])\n",
    "    V_i[:,i] = _1 * (_1 >= _2) + V_iplus1[:,i] * (_1 < _2)\n",
    "\n",
    "V_i[:,m] = g(X2[m,:],m)\n",
    "\n",
    "Mk = np.zeros(n)\n",
    "M2 = np.zeros(n*(m+1)).reshape(n,m+1)\n",
    "for i in range(1,m+1):\n",
    "    Mk += V_i[:,i] - V_iplus1[:,i-1]\n",
    "    M2[:,i] = Mk\n",
    "\n",
    "V0_upperbound2_ = np.max(g(X2.T,np.arange(0,m+1)).T - M2.T, axis=0)\n",
    "V0_upperbound2 = np.mean(V0_upperbound2_)\n",
    "std_upperbound2 = np.std(V0_upperbound2_)\n",
    "conv_interval_upperbound2 = V0_upperbound2 + np.array([-1,1]) * 1.96 * std_upperbound2 / np.sqrt(n)\n",
    "final_upperbound2 = conv_interval_upperbound2[1]\n",
    "\n",
    "print(\"Estimator:\", V0_upperbound2)\n",
    "print(\"Standard deviation:\", std_upperbound2 / np.sqrt(n))\n",
    "print(\"Condidence interval 95%:\", conv_interval_upperbound2)\n",
    "print(\"Error:\", 100 * 1.96 * std_upperbound2 / (V0_upperbound2 * np.sqrt(n)), \"%\")"
   ]
  },
  {
   "cell_type": "code",
   "execution_count": 516,
   "metadata": {},
   "outputs": [
    {
     "name": "stdout",
     "output_type": "stream",
     "text": [
      "Martingale from Approximate Value Functions Algorithm:\n",
      "Confidence interval (lower & upper bounds): [21.301490061158066, 21.670811086291835]\n",
      "Standard deviation: 0.005499261659263224\n",
      "Stopping Rule Algorithm:\n",
      "Confidence interval (lower & upper bounds): [21.301490061158066, 21.7139217779533]\n",
      "Standard deviation 2: 0.005791111011285802\n"
     ]
    }
   ],
   "source": [
    "print(\"Martingale from Approximate Value Functions Algorithm:\")\n",
    "print(\"Confidence interval (lower & upper bounds):\", [final_lowerbound, final_upperbound])\n",
    "print(\"Standard deviation:\", std_upperbound / np.sqrt(n))\n",
    "print(\"Stopping Rule Algorithm:\")\n",
    "print(\"Confidence interval (lower & upper bounds):\", [final_lowerbound, final_upperbound2])\n",
    "print(\"Standard deviation 2:\", std_upperbound2 / np.sqrt(n))"
   ]
  },
  {
   "cell_type": "code",
   "execution_count": 517,
   "metadata": {},
   "outputs": [
    {
     "name": "stdout",
     "output_type": "stream",
     "text": [
      "[[ 0.00000000e+00  0.00000000e+00  0.00000000e+00  0.00000000e+00\n",
      "   0.00000000e+00  0.00000000e+00  0.00000000e+00]\n",
      " [-2.34567570e+05  6.83479289e+03 -6.63550178e+01  2.14646991e-01\n",
      "   3.77425838e+00  1.96273754e+00  2.14727180e-01]\n",
      " [-5.10819782e+03  1.42916610e+02 -1.32585341e+00  4.08460741e-03\n",
      "   6.11768775e-01  1.14342135e-01  4.00906172e-03]\n",
      " [ 1.07460740e+03 -2.62451884e+01  2.13291052e-01 -5.73913550e-04\n",
      "  -4.25689790e-01 -2.93094716e-02 -6.36778706e-04]\n",
      " [ 4.32752106e+02 -9.79726849e+00  7.44740046e-02 -1.89032770e-04\n",
      "  -2.75332075e-01 -6.75845562e-04 -3.21616688e-04]\n",
      " [ 2.65543204e+02 -5.79895432e+00  4.30137359e-02 -1.08026097e-04\n",
      "  -8.73229948e-02  6.09459207e-03 -2.51349987e-04]\n",
      " [ 1.22476700e+02 -2.20502592e+00  1.29900291e-02 -2.48985308e-05\n",
      "   4.04578138e-02  1.02565222e-02 -1.61293955e-04]\n",
      " [ 2.34729513e+02 -4.92820983e+00  3.46235946e-02 -8.13079218e-05\n",
      "  -1.07158733e-01  9.00732602e-03 -2.63527369e-04]\n",
      " [ 1.56810114e+02 -3.09241809e+00  2.01549656e-02 -4.33494470e-05\n",
      "   6.97751652e-02  8.62126597e-03 -1.87048963e-04]\n",
      " [ 1.55124597e+02 -3.12190763e+00  2.06973622e-02 -4.51313401e-05\n",
      "   1.62365607e-01  6.78119041e-03 -1.69590429e-04]\n",
      " [ 8.60862680e+01 -1.63012388e+00  1.00538537e-02 -2.01228168e-05\n",
      "   3.92495233e-01  6.71640054e-03 -1.19828243e-04]\n",
      " [ 7.29038935e+01 -1.41692649e+00  8.93408214e-03 -1.82144953e-05\n",
      "   5.22820169e-01  4.73568940e-03 -9.04372854e-05]\n",
      " [ 0.00000000e+00  0.00000000e+00  0.00000000e+00  0.00000000e+00\n",
      "   0.00000000e+00  0.00000000e+00  0.00000000e+00]]\n"
     ]
    }
   ],
   "source": [
    "# to observe what base functions have the higher weights\n",
    "print(alpha_tau)"
   ]
  },
  {
   "cell_type": "markdown",
   "metadata": {},
   "source": [
    "# Finite difference scheme\n",
    "Implementation of an explicit, an implicit, a tetha and a Crank-Nicholson scheme"
   ]
  },
  {
   "cell_type": "code",
   "execution_count": 519,
   "metadata": {},
   "outputs": [
    {
     "name": "stderr",
     "output_type": "stream",
     "text": [
      "100%|██████████| 999/999 [00:17<00:00, 57.41it/s]\n"
     ]
    },
    {
     "data": {
      "image/png": "[encoded data removed]",
      "text/plain": [
       "<Figure size 1000x600 with 1 Axes>"
      ]
     },
     "metadata": {},
     "output_type": "display_data"
    }
   ],
   "source": [
    "def FDS_american_put(T, r, sigma, K, l_borne, n_time, n_space, theta, scheme_type):\n",
    "    \n",
    "    # Space and time parameters\n",
    "    dt = T / n_time\n",
    "    dx = (2 * l_borne) / (n_space + 1)\n",
    "    X = np.linspace(-l_borne, l_borne, n_space+2)\n",
    "    \n",
    "    # Matrix A\n",
    "    alpha = sigma**2 / (2*dx**2) - (r - (sigma**2)/2)/(2*dx)\n",
    "    beta = -sigma**2/(dx**2) - r\n",
    "    gamma = sigma**2 / (2*dx**2) + (r - (sigma**2) / 2)/(2*dx)\n",
    "    A = np.diag([beta] * (n_space + 2))\n",
    "    for i in range(n_space + 1):\n",
    "        A[i, i + 1] = gamma\n",
    "        A[i + 1, i] = alpha\n",
    "    A[0, 0] = beta + alpha\n",
    "    A[n_space + 1, n_space + 1] = beta + gamma\n",
    "\n",
    "    # Matrix of the solution (lignes for the time and columns for the space)\n",
    "    u = np.zeros(shape=(n_time,n_space + 2))\n",
    "    u[-1,:] = np.maximum(K - np.exp(X), 0)\n",
    "    u[-1,0] = u[-1,1]\n",
    "    u[-1,n_space + 1] = u[-1,n_space]\n",
    "    \n",
    "    match scheme_type:\n",
    "        case 'explicit': # Explicit scheme\n",
    "            B = np.eye(n_space + 2) + A * dt\n",
    "            for i in range(n_time - 1, 0, -1):\n",
    "                u[i-1,:] = np.maximum(B @ u[i,:], u[-1,:])\n",
    "\n",
    "        case 'implicit': # Implicit scheme\n",
    "            B_tilde = np.eye(n_space + 2) - A * dt\n",
    "            for i in tqdm(range(n_time - 1, 0, -1)):\n",
    "                u[i-1,:] = np.linalg.solve(B_tilde, u[i,:])\n",
    "                u[i-1,:] = np.maximum(u[i-1,:], u[-1,:])\n",
    "\n",
    "        case 'theta': # Theta scheme\n",
    "            B_2 = np.eye(n_space + 2) - theta * A * dt\n",
    "            B_3 = np.eye(n_space + 2) + (1 - theta) * A * dt\n",
    "            for i in tqdm(range(n_time - 1, 0, -1)):\n",
    "                B_4 = B_3 @ u[i, :]\n",
    "                u[i-1, :] = np.linalg.solve(B_2, B_4)\n",
    "                u[i-1, :] = np.maximum(u[i-1, :], u[-1,:])\n",
    "        \n",
    "        case 'Crank-Nicholson': # Crank-Nicholson scheme\n",
    "            theta = 1/2\n",
    "            B_2 = np.eye(n_space + 2) - theta * A * dt\n",
    "            B_3 = np.eye(n_space + 2) + (1 - theta) * A * dt\n",
    "            for i in tqdm(range(n_time - 1, 0, -1)):\n",
    "                B_4 = B_3 @ u[i, :]\n",
    "                u[i-1, :] = np.linalg.solve(B_2, B_4)\n",
    "                u[i-1, :] = np.maximum(u[i-1, :], u[-1,:])\n",
    "\n",
    "    return u, X\n",
    "\n",
    "# Input parameters\n",
    "n_space = 1000\n",
    "n_time = 1000\n",
    "l_borne = 10\n",
    "scheme_type = 'implicit' # explicit, implicit, theta, Crank-Nicholson\n",
    "theta = 1/2\n",
    "\n",
    "# Model parameters\n",
    "r, sigma, x, K, T = 0.06, .4, 80, 100, 0.5\n",
    "\n",
    "# Compute the function\n",
    "N, X = FDS_american_put(T, r, sigma, K, l_borne, n_time, n_space, theta, scheme_type)\n",
    "\n",
    "# Plotting\n",
    "plt.figure(figsize=(10, 6))\n",
    "plt.plot(np.exp(X), N[n_time-1,:], label='t = T', color='blue')\n",
    "plt.plot(np.exp(X), N[2*n_time//3,:], label='t = 2T/3', color='red')\n",
    "plt.plot(np.exp(X), N[n_time//3,:], label='t = T/3', color='green')\n",
    "plt.plot(np.exp(X), N[0,:], label='t = 0', color='pink')\n",
    "plt.xlim(0, 200)\n",
    "plt.xlabel('Initial value x')\n",
    "plt.ylabel('Price of the option at diffent times')\n",
    "plt.legend()\n",
    "plt.grid(True)\n",
    "plt.show()"
   ]
  }
 ],
 "metadata": {
  "kernelspec": {
   "display_name": "Python 3",
   "language": "python",
   "name": "python3"
  },
  "language_info": {
   "codemirror_mode": {
    "name": "ipython",
    "version": 3
   },
   "file_extension": ".py",
   "mimetype": "text/x-python",
   "name": "python",
   "nbconvert_exporter": "python",
   "pygments_lexer": "ipython3",
   "version": "3.10.6"
  }
 },
 "nbformat": 4,
 "nbformat_minor": 2
}
