{
 "cells": [
  {
   "cell_type": "markdown",
   "metadata": {},
   "source": [
    "# Monte Carlo Project\n",
    "\n",
    "## Iacob Jessica, Mourre Grégoire\n",
    "\n",
    "In this Jupter file, we will implement the different methods presented and described in https://github.com/gregoiremrr/Monte-Carlo-for-American-Options.\n"
   ]
  },
  {
   "cell_type": "code",
   "execution_count": 106,
   "metadata": {},
   "outputs": [],
   "source": [
    "import numpy as np\n",
    "from numpy.random import default_rng\n",
    "from scipy.optimize import curve_fit\n",
    "from tqdm import tqdm"
   ]
  },
  {
   "cell_type": "markdown",
   "metadata": {},
   "source": [
    "# Longstaff and Schwartz method for the lower bound"
   ]
  },
  {
   "cell_type": "code",
   "execution_count": 107,
   "metadata": {},
   "outputs": [],
   "source": [
    "n = 10000\n",
    "m = 12\n",
    "rng = default_rng()\n",
    "\n",
    "r, sigma, x, K, T = 0, .3, 100, 105, 1\n",
    "dt = T/m\n",
    "\n",
    "def g(x, K=K):\n",
    "    return np.maximum(K-x,0)\n",
    "\n",
    "def phi(x):\n",
    "    return np.array([1, x, x**2, x**3, x**4, g(x), g(x)**2, g(x)**3, g(x)**4], dtype=object)\n",
    "l = len(phi(0))\n",
    "\n",
    "def reg(x, *alphas):\n",
    "    alpha = np.array(alphas)\n",
    "    return np.sum(alpha * phi(x))"
   ]
  },
  {
   "cell_type": "code",
   "execution_count": 108,
   "metadata": {},
   "outputs": [
    {
     "name": "stdout",
     "output_type": "stream",
     "text": [
      "Estimator: 14.770135278078465\n"
     ]
    }
   ],
   "source": [
    "# Tsitsiklis & Van Roy's algorithm\n",
    "\n",
    "# Step 1\n",
    "B = rng.normal(size=m*n).reshape(m,n)\n",
    "X = np.cumprod(np.concatenate([[x*np.ones(n)], 1 + r * dt + sigma * np.sqrt(dt) * B]), axis=0)\n",
    "\n",
    "# Step 2\n",
    "V = np.zeros(n*(m+1)).reshape(m+1,n)\n",
    "V[-1,:] = g(X[-1,:])\n",
    "\n",
    "# Step 3\n",
    "alpha0 = np.zeros(l)\n",
    "for i in range(m-1, 0, -1):\n",
    "    alpha_star = curve_fit(reg, X[i,:], V[i+1,:], p0=alpha0)[0]\n",
    "    _1 = g(X[i,:])\n",
    "    _2 = reg(X[i,:], alpha_star)\n",
    "    V[i,:] = _1 * (_1 >= _2) + _2 * (_1 < _2)\n",
    "\n",
    "# Step 4\n",
    "_1 = g(x)\n",
    "_2 = np.mean(V[1,:])\n",
    "V0 = _1 * (_1 >= _2) + _2 * (_1 < _2)\n",
    "\n",
    "print(\"Estimator:\", V0)"
   ]
  },
  {
   "cell_type": "code",
   "execution_count": 109,
   "metadata": {},
   "outputs": [
    {
     "name": "stdout",
     "output_type": "stream",
     "text": [
      "Estimator: 15.045031312669142\n",
      "Standard deviation: 0.15352993479219845\n",
      "Condidence interval 95%: [14.74411264 15.34594998]\n",
      "Error: 2.0001199461732657 %\n"
     ]
    }
   ],
   "source": [
    "# Longstaff & Schwartz's algorithm\n",
    "\n",
    "# Step 2\n",
    "V2 = np.zeros(n*(m+1)).reshape((m+1),n)\n",
    "V2[-1,:] = g(X[-1,:])\n",
    "\n",
    "alpha_tau = np.zeros(l*(m+1)).reshape((m+1),l)\n",
    "\n",
    "# Step 3\n",
    "alpha0 = np.zeros(l)\n",
    "for i in range(m-1, 0, -1):\n",
    "    alpha_tau[i,:] = curve_fit(reg, X[i,:], V2[i+1,:], p0=alpha0)[0]\n",
    "    _1 = g(X[i,:])\n",
    "    _2 = reg(X[i,:], alpha_tau[i,:])\n",
    "    V2[i,:] = _1 * (_1 >= _2) + V2[(i+1),:] * (_1 < _2)\n",
    "\n",
    "# Step 4 (not used)\n",
    "_1 = g(x)\n",
    "_2 = np.mean(V2[1,:])\n",
    "V02 = np.mean(_1 * (_1 >= _2) + V2[1,:] * (_1 < _2))\n",
    "\n",
    "# Step 5\n",
    "B2 = rng.normal(size=m*n).reshape(m,n)\n",
    "X2 = np.cumprod(np.concatenate([[x*np.ones(n)], 1 + r * dt + sigma * np.sqrt(dt) * B2]), axis=0)\n",
    "\n",
    "V3 = np.zeros(n*(m+1)).reshape((m+1),n)\n",
    "V3[-1,:] = g(X2[-1,:])\n",
    "\n",
    "for i in range(m-1, 0, -1):\n",
    "    _1 = g(X2[i,:])\n",
    "    _2 = reg(X2[i,:], alpha_tau[i,:])\n",
    "    V3[i,:] = _1 * (_1 >= _2) + V3[(i+1),:] * (_1 < _2)\n",
    "\n",
    "_1 = g(x)\n",
    "_2 = np.mean(V3[1,:])\n",
    "V03_ = _1 * (_1 >= _2) + V3[1,:] * (_1 < _2)\n",
    "\n",
    "V03 = np.mean(V03_)\n",
    "std = np.std(V03_)\n",
    "conv_interval = V03 + np.array([-1,1]) * 1.96 * std / np.sqrt(n)\n",
    "final_lowerbound = conv_interval[0]\n",
    "\n",
    "print(\"Estimator:\", V03)\n",
    "print(\"Standard deviation:\", std / np.sqrt(n))\n",
    "print(\"Condidence interval 95%:\", conv_interval)\n",
    "print(\"Error:\", 100 * 1.96 * std / (V03 * np.sqrt(n)), \"%\")"
   ]
  },
  {
   "cell_type": "markdown",
   "metadata": {},
   "source": [
    "# Martingales from Approximate Value Functions"
   ]
  },
  {
   "cell_type": "code",
   "execution_count": 110,
   "metadata": {},
   "outputs": [
    {
     "name": "stdout",
     "output_type": "stream",
     "text": [
      "14.66132934328855\n"
     ]
    }
   ],
   "source": [
    "# One trajectory\n",
    "\n",
    "n2 = n\n",
    "\n",
    "B_upperbound = rng.normal(size=m)\n",
    "X_upperbound = np.cumprod(np.concatenate([[x], 1 + r * dt + sigma * np.sqrt(dt) * B_upperbound]), axis=0)\n",
    "Normal = rng.normal(size=m*n2).reshape(m,n2)\n",
    "M = np.zeros(m+1)\n",
    "Mi = 0\n",
    "\n",
    "for i in range(1, m):\n",
    "    V_upperbound = max(g(X_upperbound[i]), reg(X_upperbound[i], alpha_tau[i,:]))\n",
    "    X_next = X_upperbound[i-1] * (1 + r * dt + sigma * np.sqrt(dt) * Normal[i-1,:])\n",
    "    V_Ynext = np.maximum(g(X_next), reg(X_next, alpha_tau[i,:]))\n",
    "    delta = V_upperbound - np.mean(V_Ynext)\n",
    "    Mi += delta\n",
    "    M[i] = Mi\n",
    "\n",
    "X_next = X_upperbound[-2] * (1 + r * dt + sigma * np.sqrt(dt) * Normal[-1,:])\n",
    "delta = g(X_upperbound[-1]) - np.mean(g(X_next))\n",
    "Mi += delta\n",
    "M[-1] = Mi\n",
    "\n",
    "V0_upperbound = np.max(g(X_upperbound) - M)\n",
    "print(V0_upperbound)"
   ]
  },
  {
   "cell_type": "code",
   "execution_count": 111,
   "metadata": {},
   "outputs": [
    {
     "name": "stderr",
     "output_type": "stream",
     "text": [
      "100%|██████████| 11/11 [00:06<00:00,  1.80it/s]"
     ]
    },
    {
     "name": "stdout",
     "output_type": "stream",
     "text": [
      "Estimator: 14.998667126467112\n",
      "Standard deviation: 0.007664949983179101\n",
      "Condidence interval 95%: [14.98364382 15.01369043]\n",
      "Error: 0.10016424686511281 %\n"
     ]
    },
    {
     "name": "stderr",
     "output_type": "stream",
     "text": [
      "\n"
     ]
    }
   ],
   "source": [
    "# Monte-Carlo method for n trajectories\n",
    "\n",
    "n2 = 1000\n",
    "\n",
    "Normal = rng.normal(size=m*n*n2).reshape(m,n2,n)\n",
    "M = np.zeros(n*(m+1)).reshape(m+1,n)\n",
    "Mi = np.zeros(n)\n",
    "\n",
    "for i in tqdm(range(1, m)):\n",
    "    V_upperbound = np.maximum(g(X2[i,:]), reg(X2[i,:], alpha_tau[i,:]))\n",
    "    X_next = X2[i-1,:] * (1 + r * dt + sigma * np.sqrt(dt) * Normal[i-1,:,:])\n",
    "    V_Ynext = np.maximum(g(X_next), reg(X_next, alpha_tau[i,:]))\n",
    "    Mi += V_upperbound - np.mean(V_Ynext, axis=0)\n",
    "    M[i,:] = Mi\n",
    "\n",
    "X_next = X2[-2,:] * (1 + r * dt + sigma * np.sqrt(dt) * Normal[-1,:,:])\n",
    "Mi += g(X2[-1,:]) - np.mean(g(X_next), axis=0)\n",
    "M[-1,:] = Mi\n",
    "\n",
    "V0_upperbound_ = np.max(g(X2) - M, axis=0)\n",
    "V0_upperbound = np.mean(V0_upperbound_)\n",
    "std_upperbound = np.std(V0_upperbound_)\n",
    "conv_interval_upperbound = V0_upperbound + np.array([-1,1]) * 1.96 * std_upperbound / np.sqrt(n)\n",
    "final_upperbound = conv_interval_upperbound[1]\n",
    "\n",
    "print(\"Estimator:\", V0_upperbound)\n",
    "print(\"Standard deviation:\", std_upperbound / np.sqrt(n))\n",
    "print(\"Condidence interval 95%:\", conv_interval_upperbound)\n",
    "print(\"Error:\", 100 * 1.96 * std_upperbound / (V0_upperbound * np.sqrt(n)), \"%\")"
   ]
  },
  {
   "cell_type": "code",
   "execution_count": 112,
   "metadata": {},
   "outputs": [
    {
     "name": "stdout",
     "output_type": "stream",
     "text": [
      "Confidence interval (lower & upper bounds): [14.744112640476432, 15.013690428434142]\n"
     ]
    }
   ],
   "source": [
    "print(\"Confidence interval (lower & upper bounds):\", [final_lowerbound, final_upperbound])"
   ]
  },
  {
   "cell_type": "markdown",
   "metadata": {},
   "source": [
    "# Martingales from Stopping Rules"
   ]
  },
  {
   "cell_type": "code",
   "execution_count": 113,
   "metadata": {},
   "outputs": [
    {
     "name": "stderr",
     "output_type": "stream",
     "text": [
      "100%|██████████| 10000/10000 [00:04<00:00, 2455.78it/s]\n",
      "100%|██████████| 10000/10000 [00:39<00:00, 251.96it/s]\n"
     ]
    },
    {
     "name": "stdout",
     "output_type": "stream",
     "text": [
      "Estimator: 15.04229593718883\n",
      "Standard deviation: 0.007309245963377969\n",
      "Condidence interval 95%: [15.02796982 15.05662206]\n",
      "Error: 0.09523893259407677 %\n"
     ]
    }
   ],
   "source": [
    "# Step 1\n",
    "n_subpaths = 500\n",
    "\n",
    "Normal = rng.normal(size=m*m*n*n_subpaths).reshape(n,m,m,n_subpaths)\n",
    "\n",
    "subpaths = np.zeros(m*(m+1)*n*n_subpaths).reshape(n,m,m+1,n_subpaths)\n",
    "for k in tqdm(range(n)):\n",
    "    for i in range(m):\n",
    "        subpaths[k,i,:i+1,:] = np.repeat(X2[:i+1,k], n_subpaths).reshape(i+1,-1)\n",
    "        subpaths[k,i,i+1:,:] = X2[i,k] * np.cumprod(1 + r * dt + sigma * np.sqrt(dt) * Normal[k,i,i:,:], axis=0)\n",
    "\n",
    "subpaths_values = np.zeros(m*(m+1)*n*n_subpaths).reshape(n,m,m+1,n_subpaths)\n",
    "for k in tqdm(range(n)):\n",
    "    for i in range(m):\n",
    "        subpaths_values[k,i,m,:] = g(subpaths[k,i,m,:])\n",
    "        for j in range(m-1,i,-1):\n",
    "            _1 = g(subpaths[k,i,j,:])\n",
    "            _2 = reg(subpaths[k,i,j,:], alpha_tau[j,:])\n",
    "            subpaths_values[k,i,j,:] =  _1 * (_1 >= _2) + subpaths_values[k,i,j+1,:] * (_1 < _2)\n",
    "\n",
    "# approximation of E[ h_{\\tau_{i+1}}(X_{\\tau_{i+1}}) | X_i ] = V_iplus1[:,i]\n",
    "V_iplus1 = np.zeros(n*m).reshape(n,m)\n",
    "for i in range(m):\n",
    "    V_iplus1[:,i] = np.mean(subpaths_values[:,i,i+1,:], axis = 1)\n",
    "\n",
    "# approximation of E[ h_{\\tau_i}(X_{\\tau_i}) | X_i ] = V_i[:,i]\n",
    "V_i = np.zeros(n*(m+1)).reshape(n,m+1)\n",
    "for i in range(1,m):\n",
    "    _1 = g(X2[i,:])\n",
    "    _2 = reg(X2[i,:], alpha_tau[i,:])\n",
    "    V_i[:,i] = _1 * (_1 >= _2) + V_iplus1[:,i] * (_1 < _2)\n",
    "\n",
    "V_i[:,m] = g(X2[m,:])\n",
    "\n",
    "Mk = np.zeros(n)\n",
    "M2 = np.zeros(n*(m+1)).reshape(n,m+1)\n",
    "for i in range(1,m+1):\n",
    "    Mk += V_i[:,i] - V_iplus1[:,i-1]\n",
    "    M2[:,i] = Mk\n",
    "\n",
    "V0_upperbound2_ = np.max(g(X2) - M2.T, axis=0)\n",
    "V0_upperbound2 = np.mean(V0_upperbound2_)\n",
    "std_upperbound2 = np.std(V0_upperbound2_)\n",
    "conv_interval_upperbound2 = V0_upperbound2 + np.array([-1,1]) * 1.96 * std_upperbound2 / np.sqrt(n)\n",
    "final_upperbound2 = conv_interval_upperbound2[1]\n",
    "\n",
    "print(\"Estimator:\", V0_upperbound2)\n",
    "print(\"Standard deviation:\", std_upperbound2 / np.sqrt(n))\n",
    "print(\"Condidence interval 95%:\", conv_interval_upperbound2)\n",
    "print(\"Error:\", 100 * 1.96 * std_upperbound2 / (V0_upperbound2 * np.sqrt(n)), \"%\")"
   ]
  },
  {
   "cell_type": "code",
   "execution_count": 114,
   "metadata": {},
   "outputs": [
    {
     "name": "stdout",
     "output_type": "stream",
     "text": [
      "Confidence interval (lower & upper bounds): [14.744112640476432, 15.056622059277052]\n"
     ]
    }
   ],
   "source": [
    "print(\"Confidence interval (lower & upper bounds):\", [final_lowerbound, final_upperbound2])"
   ]
  },
  {
   "cell_type": "markdown",
   "metadata": {},
   "source": [
    "# Finite difference"
   ]
  },
  {
   "cell_type": "code",
   "execution_count": null,
   "metadata": {},
   "outputs": [],
   "source": []
  }
 ],
 "metadata": {
  "kernelspec": {
   "display_name": "Python 3",
   "language": "python",
   "name": "python3"
  },
  "language_info": {
   "codemirror_mode": {
    "name": "ipython",
    "version": 3
   },
   "file_extension": ".py",
   "mimetype": "text/x-python",
   "name": "python",
   "nbconvert_exporter": "python",
   "pygments_lexer": "ipython3",
   "version": "3.10.6"
  }
 },
 "nbformat": 4,
 "nbformat_minor": 2
}
