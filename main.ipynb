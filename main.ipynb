{
 "cells": [
  {
   "cell_type": "markdown",
   "metadata": {},
   "source": [
    "# Monte Carlo Project\n",
    "\n",
    "## Iacob Jessica, Mourre Grégoire\n",
    "\n",
    "In this Jupter file, we will implement the different methods presented and described in https://github.com/gregoiremrr/Monte-Carlo-for-American-Options.\n"
   ]
  },
  {
   "cell_type": "code",
   "execution_count": 1,
   "metadata": {},
   "outputs": [],
   "source": [
    "import numpy as np\n",
    "from numpy.random import default_rng\n",
    "from scipy.optimize import curve_fit\n",
    "import matplotlib.pyplot as plt\n",
    "from tqdm import tqdm"
   ]
  },
  {
   "cell_type": "markdown",
   "metadata": {},
   "source": [
    "# Methods for the lower bound"
   ]
  },
  {
   "cell_type": "code",
   "execution_count": 2,
   "metadata": {},
   "outputs": [],
   "source": [
    "n = 10000\n",
    "m = 12\n",
    "rng = default_rng(seed=0)\n",
    "\n",
    "r, sigma, x, K, T = 0.06, .4, 80, 100, 0.5\n",
    "dt = T/m\n",
    "\n",
    "def g(x,t=0):\n",
    "    return np.exp(-r*t*dt) * np.maximum(K-x,0)\n",
    "\n",
    "def phi(x):\n",
    "    # Canonical basis\n",
    "    #return np.array([1, x, x**2, x**3], dtype=object)\n",
    "    #return np.array([1, x, x**2, x**3, g(x)], dtype=object)\n",
    "    #return np.array([1, x, x**2, x**3, x**4, g(x)], dtype=object)\n",
    "    #return np.array([1, x, x**2, x**3, g(x), g(x)**2], dtype=object)\n",
    "    return np.array([1, x, x**2, x**3, g(x), g(x)**2, g(x)**3], dtype=object)\n",
    "    # Legendre's basis\n",
    "    #return np.array([1, x, (3*x**2-1)/2, (5*x**3-3*x)/2], dtype=object)\n",
    "    #return np.array([1, x, (3*x**2-1)/2, (5*x**3-3*x)/2, g(x)], dtype=object)\n",
    "    #return np.array([1, x, (3*x**2-1)/2, (5*x**3-3*x)/2, (35*x**4-30*x**2+3)/8, g(x)], dtype=object)\n",
    "    #return np.array([1, x, (3*x**2-1)/2, (5*x**3-3*x)/2, g(x), g(x)**2], dtype=object)\n",
    "    #return np.array([1, x, (3*x**2-1)/2, (5*x**3-3*x)/2, g(x), g(x)**2, g(x)**3], dtype=object)\n",
    "    # Hermite's basis\n",
    "    #return np.array([1, x, x**2-1, x**3-3*x], dtype=object)\n",
    "    #return np.array([1, x, x**2-1, x**3-3*x, g(x)], dtype=object)\n",
    "    #return np.array([1, x, x**2-1, x**3-3*x, x**4-6*x**2+3, g(x)], dtype=object)\n",
    "    #return np.array([1, x, x**2-1, x**3-3*x, g(x), g(x)**2], dtype=object)\n",
    "    #return np.array([1, x, x**2-1, x**3-3*x, g(x), g(x)**2, g(x)**3], dtype=object)\n",
    "    # Laguerre's basis\n",
    "    #return np.array([1, 1-x, (x**2-4*x+2)/2, (-x**3+9*x**2-18*x+6)/6], dtype=object)\n",
    "    #return np.array([1, 1-x, (x**2-4*x+2)/2, (-x**3+9*x**2-18*x+6)/6, g(x)], dtype=object)\n",
    "    #return np.array([1, 1-x, (x**2-4*x+2)/2, (-x**3+9*x**2-18*x+6)/6, (x**4-16*x**3+72*x**2-96*x+24)/24, g(x)], dtype=object)\n",
    "    #return np.array([1, 1-x, (x**2-4*x+2)/2, (-x**3+9*x**2-18*x+6)/6, g(x), g(x)**2], dtype=object)\n",
    "    #return np.array([1, 1-x, (x**2-4*x+2)/2, (-x**3+9*x**2-18*x+6)/6, g(x), g(x)**2, g(x)**3], dtype=object)\n",
    "l = len(phi(0))\n",
    "\n",
    "def reg(x, *alphas):\n",
    "    alpha = np.array(alphas)\n",
    "    return np.sum(alpha * phi(x))"
   ]
  },
  {
   "cell_type": "markdown",
   "metadata": {},
   "source": [
    "# Tsitsiklis & Van Roy's algorithm"
   ]
  },
  {
   "cell_type": "code",
   "execution_count": 3,
   "metadata": {},
   "outputs": [
    {
     "name": "stdout",
     "output_type": "stream",
     "text": [
      "Estimator: 21.514396725495107\n"
     ]
    }
   ],
   "source": [
    "# Step 1\n",
    "B = rng.normal(size=m*n).reshape(m,n)\n",
    "X = np.cumprod(np.concatenate([[x*np.ones(n)], 1 + r * dt + sigma * np.sqrt(dt) * B]), axis=0)\n",
    "\n",
    "# Step 2\n",
    "V = np.zeros(n*(m+1)).reshape(m+1,n)\n",
    "V[-1,:] = g(X[-1,:],m)\n",
    "\n",
    "# Step 3\n",
    "alpha0 = np.zeros(l)\n",
    "for i in range(m-1, 0, -1):\n",
    "    alpha_star = curve_fit(reg, X[i,:], V[i+1,:], p0=alpha0)[0]\n",
    "    _1 = g(X[i,:],i)\n",
    "    _2 = reg(X[i,:], alpha_star)\n",
    "    V[i,:] = _1 * (_1 >= _2) + _2 * (_1 < _2)\n",
    "\n",
    "# Step 4\n",
    "_1 = g(x)\n",
    "_2 = np.mean(V[1,:])\n",
    "V0 = _1 * (_1 >= _2) + _2 * (_1 < _2)\n",
    "\n",
    "print(\"Estimator:\", V0)"
   ]
  },
  {
   "cell_type": "markdown",
   "metadata": {},
   "source": [
    "# Longstaff and Schwartz's algorithm\n",
    "Approximation of the Value Functions (Steps 2 to 4 in Longstaff & Schwartz's algorithm)"
   ]
  },
  {
   "cell_type": "code",
   "execution_count": 4,
   "metadata": {},
   "outputs": [],
   "source": [
    "# Step 2\n",
    "V2 = np.zeros(n*(m+1)).reshape((m+1),n)\n",
    "V2[-1,:] = g(X[-1,:],m)\n",
    "\n",
    "alpha_tau = np.zeros(l*(m+1)).reshape((m+1),l)\n",
    "\n",
    "# Step 3\n",
    "alpha0 = np.zeros(l)\n",
    "for i in range(m-1, 0, -1):\n",
    "    alpha_tau[i,:] = curve_fit(reg, X[i,:], V2[i+1,:], p0=alpha0)[0]\n",
    "    _1 = g(X[i,:],i)\n",
    "    _2 = reg(X[i,:], alpha_tau[i,:])\n",
    "    V2[i,:] = _1 * (_1 >= _2) + V2[(i+1),:] * (_1 < _2)\n",
    "\n",
    "# Step 4 (not used)\n",
    "_1 = g(x)\n",
    "_2 = np.mean(V2[1,:])\n",
    "V02 = np.mean(_1 * (_1 >= _2) + V2[1,:] * (_1 < _2))"
   ]
  },
  {
   "cell_type": "markdown",
   "metadata": {},
   "source": [
    "Longstaff & Schwartz's algorithm (Step 5)"
   ]
  },
  {
   "cell_type": "code",
   "execution_count": 5,
   "metadata": {},
   "outputs": [
    {
     "name": "stdout",
     "output_type": "stream",
     "text": [
      "Estimator: 21.431061290984903\n",
      "Standard deviation: 0.11948548123707076\n",
      "Condidence interval 95%: [21.19686975 21.66525283]\n",
      "Error: 1.092766895884772 %\n"
     ]
    }
   ],
   "source": [
    "# Step 5\n",
    "B2 = rng.normal(size=m*n).reshape(m,n)\n",
    "X2 = np.cumprod(np.concatenate([[x*np.ones(n)], 1 + r * dt + sigma * np.sqrt(dt) * B2]), axis=0)\n",
    "\n",
    "V3 = np.zeros(n*(m+1)).reshape((m+1),n)\n",
    "V3[-1,:] = g(X2[-1,:],m)\n",
    "\n",
    "for i in range(m-1, 0, -1):\n",
    "    _1 = g(X2[i,:],i)\n",
    "    _2 = reg(X2[i,:], alpha_tau[i,:])\n",
    "    V3[i,:] = _1 * (_1 >= _2) + V3[(i+1),:] * (_1 < _2)\n",
    "\n",
    "_1 = g(x)\n",
    "_2 = np.mean(V3[1,:])\n",
    "V03_ = _1 * (_1 >= _2) + V3[1,:] * (_1 < _2)\n",
    "\n",
    "V03 = np.mean(V03_)\n",
    "std = np.std(V03_)\n",
    "conv_interval = V03 + np.array([-1,1]) * 1.96 * std / np.sqrt(n)\n",
    "final_lowerbound = conv_interval[0]\n",
    "\n",
    "print(\"Estimator:\", V03)\n",
    "print(\"Standard deviation:\", std / np.sqrt(n))\n",
    "print(\"Condidence interval 95%:\", conv_interval)\n",
    "print(\"Error:\", 100 * 1.96 * std / (V03 * np.sqrt(n)), \"%\")"
   ]
  },
  {
   "cell_type": "markdown",
   "metadata": {},
   "source": [
    "# Martingales from Approximate Value Functions"
   ]
  },
  {
   "cell_type": "code",
   "execution_count": 6,
   "metadata": {},
   "outputs": [
    {
     "name": "stdout",
     "output_type": "stream",
     "text": [
      "22.51957477024952\n"
     ]
    }
   ],
   "source": [
    "# One trajectory (just to get the idea of the next reel method)\n",
    "\n",
    "n2 = 1000\n",
    "\n",
    "B_upperbound = rng.normal(size=m)\n",
    "X_upperbound = np.cumprod(np.concatenate([[x], 1 + r * dt + sigma * np.sqrt(dt) * B_upperbound]), axis=0)\n",
    "Normal = rng.normal(size=m*n2).reshape(m,n2)\n",
    "M = np.zeros(m+1)\n",
    "Mi = 0\n",
    "\n",
    "for i in range(1, m):\n",
    "    V_upperbound = max(g(X_upperbound[i],i), reg(X_upperbound[i], alpha_tau[i,:]))\n",
    "    X_next = X_upperbound[i-1] * (1 + r * dt + sigma * np.sqrt(dt) * Normal[i-1,:])\n",
    "    V_Ynext = np.maximum(g(X_next,i), reg(X_next, alpha_tau[i,:]))\n",
    "    delta = V_upperbound - np.mean(V_Ynext)\n",
    "    Mi += delta\n",
    "    M[i] = Mi\n",
    "\n",
    "X_next = X_upperbound[-2] * (1 + r * dt + sigma * np.sqrt(dt) * Normal[-1,:])\n",
    "delta = g(X_upperbound[-1],m) - np.mean(g(X_next,m))\n",
    "Mi += delta\n",
    "M[-1] = Mi\n",
    "\n",
    "V0_upperbound = np.max(g(X_upperbound,np.arange(0,m+1)) - M)\n",
    "print(V0_upperbound)"
   ]
  },
  {
   "cell_type": "code",
   "execution_count": 7,
   "metadata": {},
   "outputs": [
    {
     "name": "stderr",
     "output_type": "stream",
     "text": [
      "100%|██████████| 11/11 [00:04<00:00,  2.57it/s]"
     ]
    },
    {
     "name": "stdout",
     "output_type": "stream",
     "text": [
      "Estimator: 21.635424802074304\n",
      "Standard deviation: 0.005639830736443865\n",
      "Condidence interval 95%: [21.62437073 21.64647887]\n",
      "Error: 0.05109244835520938 %\n"
     ]
    },
    {
     "name": "stderr",
     "output_type": "stream",
     "text": [
      "\n"
     ]
    }
   ],
   "source": [
    "# Monte-Carlo method for n trajectories\n",
    "\n",
    "n2 = 1000\n",
    "\n",
    "Normal = rng.normal(size=m*n*n2).reshape(m,n2,n)\n",
    "M = np.zeros(n*(m+1)).reshape(m+1,n)\n",
    "Mi = np.zeros(n)\n",
    "\n",
    "for i in tqdm(range(1, m)):\n",
    "    V_upperbound = np.maximum(g(X2[i,:],i), reg(X2[i,:], alpha_tau[i,:]))\n",
    "    X_next = X2[i-1,:] * (1 + r * dt + sigma * np.sqrt(dt) * Normal[i-1,:,:])\n",
    "    V_Ynext = np.maximum(g(X_next,i), reg(X_next, alpha_tau[i,:]))\n",
    "    Mi += V_upperbound - np.mean(V_Ynext, axis=0)\n",
    "    M[i,:] = Mi\n",
    "\n",
    "X_next = X2[-2,:] * (1 + r * dt + sigma * np.sqrt(dt) * Normal[-1,:,:])\n",
    "Mi += g(X2[-1,:],m) - np.mean(g(X_next,m), axis=0)\n",
    "M[-1,:] = Mi\n",
    "\n",
    "V0_upperbound_ = np.max(g(X2.T,np.arange(0,m+1)).T - M, axis=0)\n",
    "V0_upperbound = np.mean(V0_upperbound_)\n",
    "std_upperbound = np.std(V0_upperbound_)\n",
    "conv_interval_upperbound = V0_upperbound + np.array([-1,1]) * 1.96 * std_upperbound / np.sqrt(n)\n",
    "final_upperbound = conv_interval_upperbound[1]\n",
    "\n",
    "print(\"Estimator:\", V0_upperbound)\n",
    "print(\"Standard deviation:\", std_upperbound / np.sqrt(n))\n",
    "print(\"Condidence interval 95%:\", conv_interval_upperbound)\n",
    "print(\"Error:\", 100 * 1.96 * std_upperbound / (V0_upperbound * np.sqrt(n)), \"%\")"
   ]
  },
  {
   "cell_type": "code",
   "execution_count": 8,
   "metadata": {},
   "outputs": [
    {
     "name": "stdout",
     "output_type": "stream",
     "text": [
      "Confidence interval (lower & upper bounds): [21.196869747760246, 21.646478870317733]\n"
     ]
    }
   ],
   "source": [
    "print(\"Confidence interval (lower & upper bounds):\", [final_lowerbound, final_upperbound])"
   ]
  },
  {
   "cell_type": "markdown",
   "metadata": {},
   "source": [
    "# Martingales from Stopping Rules"
   ]
  },
  {
   "cell_type": "code",
   "execution_count": 9,
   "metadata": {},
   "outputs": [
    {
     "name": "stderr",
     "output_type": "stream",
     "text": [
      "100%|██████████| 12/12 [00:19<00:00,  1.63s/it]\n"
     ]
    },
    {
     "name": "stdout",
     "output_type": "stream",
     "text": [
      "Estimator: 21.678131348446655\n",
      "Standard deviation: 0.005884844700257155\n",
      "Condidence interval 95%: [21.66659705 21.68966564]\n",
      "Error: 0.05320705658207259 %\n"
     ]
    }
   ],
   "source": [
    "# Step 1\n",
    "\n",
    "n_subpaths = 500\n",
    "Normal = rng.normal(size=m*m*n*n_subpaths).reshape(n,m,m,n_subpaths)\n",
    "\n",
    "subpaths = np.zeros(m*(m+1)*n*n_subpaths).reshape(n,m,m+1,n_subpaths)\n",
    "for k in range(n):\n",
    "    for i in range(m):\n",
    "        subpaths[k,i,i+1:,:] = X2[i,k] * np.cumprod(1 + r * dt + sigma * np.sqrt(dt) * Normal[k,i,i:,:], axis=0)\n",
    "\n",
    "subpaths_values = np.zeros(m*(m+1)*n*n_subpaths).reshape(n,m,m+1,n_subpaths)\n",
    "for i in tqdm(range(m)):\n",
    "    subpaths_values[:,i,m,:] = g(subpaths[:,i,m,:],m)\n",
    "    for j in range(m-1,i,-1):\n",
    "        _1 = g(subpaths[:,i,j,:],j)\n",
    "        _2 = reg(subpaths[:,i,j,:], alpha_tau[j,:])\n",
    "        subpaths_values[:,i,j,:] =  _1 * (_1 >= _2) + subpaths_values[:,i,j+1,:] * (_1 < _2)\n",
    "\n",
    "# approximation of E[ h_{\\tau_{i+1}}(X_{\\tau_{i+1}}) | X_i ] = V_iplus1[:,i]\n",
    "V_iplus1 = np.zeros(n*m).reshape(n,m)\n",
    "for i in range(m):\n",
    "    V_iplus1[:,i] = np.mean(subpaths_values[:,i,i+1,:], axis = 1)\n",
    "\n",
    "# approximation of E[ h_{\\tau_i}(X_{\\tau_i}) | X_i ] = V_i[:,i]\n",
    "V_i = np.zeros(n*(m+1)).reshape(n,m+1)\n",
    "for i in range(1,m):\n",
    "    _1 = g(X2[i,:],i)\n",
    "    _2 = reg(X2[i,:], alpha_tau[i,:])\n",
    "    V_i[:,i] = _1 * (_1 >= _2) + V_iplus1[:,i] * (_1 < _2)\n",
    "\n",
    "V_i[:,m] = g(X2[m,:],m)\n",
    "\n",
    "Mk = np.zeros(n)\n",
    "M2 = np.zeros(n*(m+1)).reshape(n,m+1)\n",
    "for i in range(1,m+1):\n",
    "    Mk += V_i[:,i] - V_iplus1[:,i-1]\n",
    "    M2[:,i] = Mk\n",
    "\n",
    "V0_upperbound2_ = np.max(g(X2.T,np.arange(0,m+1)).T - M2.T, axis=0)\n",
    "V0_upperbound2 = np.mean(V0_upperbound2_)\n",
    "std_upperbound2 = np.std(V0_upperbound2_)\n",
    "conv_interval_upperbound2 = V0_upperbound2 + np.array([-1,1]) * 1.96 * std_upperbound2 / np.sqrt(n)\n",
    "final_upperbound2 = conv_interval_upperbound2[1]\n",
    "\n",
    "print(\"Estimator:\", V0_upperbound2)\n",
    "print(\"Standard deviation:\", std_upperbound2 / np.sqrt(n))\n",
    "print(\"Condidence interval 95%:\", conv_interval_upperbound2)\n",
    "print(\"Error:\", 100 * 1.96 * std_upperbound2 / (V0_upperbound2 * np.sqrt(n)), \"%\")"
   ]
  },
  {
   "cell_type": "code",
   "execution_count": 10,
   "metadata": {},
   "outputs": [
    {
     "name": "stdout",
     "output_type": "stream",
     "text": [
      "Confidence interval (lower & upper bounds): [1, 21.646478870317733]\n",
      "Standard deviation: 0.005639830736443865\n",
      "Confidence interval (lower & upper bounds): [1, 21.689665644059158]\n",
      "Standard deviation 2: 0.005884844700257155\n"
     ]
    }
   ],
   "source": [
    "print(\"Confidence interval (lower & upper bounds):\", [1, final_upperbound])#final_lowerbound\n",
    "print(\"Standard deviation:\", std_upperbound / np.sqrt(n))\n",
    "print(\"Confidence interval (lower & upper bounds):\", [1, final_upperbound2])#final_lowerbound\n",
    "print(\"Standard deviation 2:\", std_upperbound2 / np.sqrt(n))"
   ]
  },
  {
   "cell_type": "code",
   "execution_count": 11,
   "metadata": {},
   "outputs": [
    {
     "name": "stdout",
     "output_type": "stream",
     "text": [
      "[[ 0.00000000e+00  0.00000000e+00  0.00000000e+00  0.00000000e+00\n",
      "   0.00000000e+00  0.00000000e+00  0.00000000e+00]\n",
      " [ 7.81653043e+03  4.68946401e+01 -3.20002626e+00  1.95036208e-02\n",
      "  -7.57798809e+00 -2.64152922e+00  1.94645081e-02]\n",
      " [-8.32888946e+03  2.37277544e+02 -2.24609966e+00  7.07215914e-03\n",
      "   4.53663118e-01  1.43092411e-01  6.92765398e-03]\n",
      " [ 8.45317148e+02 -1.94348746e+01  1.45999819e-01 -3.52611536e-04\n",
      "  -4.76022319e-01 -2.61414058e-02 -4.49050906e-04]\n",
      " [ 3.95628114e+02 -8.81831509e+00  6.58126996e-02 -1.63182943e-04\n",
      "  -2.68225867e-01  9.48924635e-04 -3.04464144e-04]\n",
      " [ 2.98649926e+02 -6.67422415e+00  5.06719483e-02 -1.30127727e-04\n",
      "  -1.16337925e-01  6.09109242e-03 -2.85495570e-04]\n",
      " [ 1.45139358e+02 -2.79762480e+00  1.80632892e-02 -3.90365840e-05\n",
      "   2.27739327e-02  1.03882398e-02 -1.88788293e-04]\n",
      " [ 2.58672094e+02 -5.55285250e+00  3.99866056e-02 -9.64184569e-05\n",
      "  -1.19951299e-01  8.38748801e-03 -2.79123346e-04]\n",
      " [ 1.42603030e+02 -2.77983397e+00  1.79392712e-02 -3.82906686e-05\n",
      "   8.46442651e-02  9.62073573e-03 -1.84581706e-04]\n",
      " [ 1.57137228e+02 -3.19107450e+00  2.14167264e-02 -4.74374643e-05\n",
      "   1.68293008e-01  6.72103582e-03 -1.71154788e-04]\n",
      " [ 8.21288557e+01 -1.55859681e+00  9.67869818e-03 -1.96159987e-05\n",
      "   4.08427865e-01  6.76265294e-03 -1.16917062e-04]\n",
      " [ 7.58057284e+01 -1.49088604e+00  9.54959625e-03 -1.98674375e-05\n",
      "   5.19118826e-01  4.72894954e-03 -9.29806782e-05]\n",
      " [ 0.00000000e+00  0.00000000e+00  0.00000000e+00  0.00000000e+00\n",
      "   0.00000000e+00  0.00000000e+00  0.00000000e+00]]\n"
     ]
    }
   ],
   "source": [
    "# to observe what base functions have the higher weights\n",
    "print(alpha_tau)"
   ]
  },
  {
   "cell_type": "markdown",
   "metadata": {},
   "source": [
    "# Finite difference scheme\n",
    "Implementation of an explicit, an implicit, a tetha and a Crank-Nicholson scheme"
   ]
  },
  {
   "cell_type": "code",
   "execution_count": 12,
   "metadata": {},
   "outputs": [
    {
     "name": "stderr",
     "output_type": "stream",
     "text": [
      "100%|██████████| 999/999 [00:15<00:00, 66.30it/s]\n"
     ]
    },
    {
     "data": {
      "image/png": "[encoded data removed]",
      "text/plain": [
       "<Figure size 1000x600 with 1 Axes>"
      ]
     },
     "metadata": {},
     "output_type": "display_data"
    }
   ],
   "source": [
    "def FDS_american_put(T, r, sigma, K, l_borne, n_time, n_space, theta, scheme_type):\n",
    "    \n",
    "    # Space and time parameters\n",
    "    dt = T / n_time\n",
    "    dx = (2 * l_borne) / (n_space + 1)\n",
    "    X = np.linspace(-l_borne, l_borne, n_space+2)\n",
    "    \n",
    "    # Matrix A\n",
    "    alpha = sigma**2 / (2*dx**2) - (r - (sigma**2)/2)/(2*dx)\n",
    "    beta = -sigma**2/(dx**2) - r\n",
    "    gamma = sigma**2 / (2*dx**2) + (r - (sigma**2) / 2)/(2*dx)\n",
    "    A = np.diag([beta] * (n_space + 2))\n",
    "    for i in range(n_space + 1):\n",
    "        A[i, i + 1] = gamma\n",
    "        A[i + 1, i] = alpha\n",
    "    A[0, 0] = beta + alpha\n",
    "    A[n_space + 1, n_space + 1] = beta + gamma\n",
    "\n",
    "    # Matrix of the solution (lignes for the time and columns for the space)\n",
    "    u = np.zeros(shape=(n_time,n_space + 2))\n",
    "    u[-1,:] = np.maximum(K - np.exp(X), 0)\n",
    "    u[-1,0] = u[-1,1]\n",
    "    u[-1,n_space + 1] = u[-1,n_space]\n",
    "    \n",
    "    match scheme_type:\n",
    "        case 'expicit': # Explicit scheme\n",
    "            B = np.eye(n_space + 2) + A * dt\n",
    "            for i in range(n_time - 1, 0, -1):\n",
    "                u[i-1,:] = np.maximum(B @ u[i,:], u[-1,:])\n",
    "\n",
    "        case 'implicit': # Implicit scheme\n",
    "            B_tilde = np.eye(n_space + 2) - A * dt\n",
    "            for i in tqdm(range(n_time - 1, 0, -1)):\n",
    "                u[i-1,:] = np.linalg.solve(B_tilde, u[i,:])\n",
    "                u[i-1,:] = np.maximum(u[i-1,:], u[-1,:])\n",
    "\n",
    "        case 'theta': # Theta scheme\n",
    "            B_2 = np.eye(n_space + 2) - theta * A * dt\n",
    "            B_3 = np.eye(n_space + 2) + (1 - theta) * A * dt\n",
    "            for i in tqdm(range(n_time - 1, 0, -1)):\n",
    "                B_4 = B_3 @ u[i, :]\n",
    "                u[i-1, :] = np.linalg.solve(B_2, B_4)\n",
    "                u[i-1, :] = np.maximum(u[i-1, :], u[-1,:])\n",
    "        \n",
    "        case 'Crank-Nicholson': # Crank-Nicholson scheme\n",
    "            theta = 1/2\n",
    "            B_2 = np.eye(n_space + 2) - theta * A * dt\n",
    "            B_3 = np.eye(n_space + 2) + (1 - theta) * A * dt\n",
    "            for i in tqdm(range(n_time - 1, 0, -1)):\n",
    "                B_4 = B_3 @ u[i, :]\n",
    "                u[i-1, :] = np.linalg.solve(B_2, B_4)\n",
    "                u[i-1, :] = np.maximum(u[i-1, :], u[-1,:])\n",
    "\n",
    "    return u, X\n",
    "\n",
    "# Input parameters\n",
    "n_space = 1000\n",
    "n_time = 1000\n",
    "l_borne = 10\n",
    "scheme_type = 'Crank-Nicholson' # explicit, implicit, theta, Crank-Nicholson\n",
    "theta = 1/2\n",
    "\n",
    "# Model parameters\n",
    "r, sigma, x, K, T = 0.06, .4, 80, 100, 0.5\n",
    "\n",
    "# Compute the function\n",
    "N, X = FDS_american_put(T, r, sigma, K, l_borne, n_time, n_space, theta, scheme_type)\n",
    "\n",
    "# Plotting\n",
    "plt.figure(figsize=(10, 6))\n",
    "plt.plot(np.exp(X), N[n_time-1,:], label='t = T', color='blue')\n",
    "plt.plot(np.exp(X), N[2*n_time//3,:], label='t = 2T/3', color='red')\n",
    "plt.plot(np.exp(X), N[n_time//3,:], label='t = T/3', color='green')\n",
    "plt.plot(np.exp(X), N[0,:], label='t = 0', color='pink')\n",
    "plt.xlim(0, 200)\n",
    "plt.xlabel('Initial value x')\n",
    "plt.ylabel('Price of the option at diffent times')\n",
    "plt.legend()\n",
    "plt.grid(True)\n",
    "plt.show()"
   ]
  }
 ],
 "metadata": {
  "kernelspec": {
   "display_name": "Python 3",
   "language": "python",
   "name": "python3"
  },
  "language_info": {
   "codemirror_mode": {
    "name": "ipython",
    "version": 3
   },
   "file_extension": ".py",
   "mimetype": "text/x-python",
   "name": "python",
   "nbconvert_exporter": "python",
   "pygments_lexer": "ipython3",
   "version": "3.10.6"
  }
 },
 "nbformat": 4,
 "nbformat_minor": 2
}
