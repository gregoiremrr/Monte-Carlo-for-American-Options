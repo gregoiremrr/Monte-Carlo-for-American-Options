{
 "cells": [
  {
   "cell_type": "markdown",
   "metadata": {},
   "source": [
    "# Monte Carlo Project\n",
    "\n",
    "## Iacob Jessica, Mourre Grégoire\n",
    "\n",
    "In thus Jupter file, we will implement the different methods presented and described in https://github.com/gregoiremrr/Monte-Carlo-for-American-Options.\n"
   ]
  },
  {
   "cell_type": "code",
   "execution_count": 150,
   "metadata": {},
   "outputs": [],
   "source": [
    "import numpy as np\n",
    "from numpy.random import default_rng"
   ]
  },
  {
   "cell_type": "markdown",
   "metadata": {},
   "source": [
    "# Longstaff and Schwartz method for the lower bound"
   ]
  },
  {
   "cell_type": "code",
   "execution_count": 151,
   "metadata": {},
   "outputs": [],
   "source": [
    "def phi(x):\n",
    "    return np.array([1, x, x**2], dtype=object)\n",
    "l = len(phi(0))\n",
    "\n",
    "def reg(x, alpha):\n",
    "    return np.sum(alpha*phi(x))\n",
    "\n",
    "n = 10**4\n",
    "m = 20\n",
    "rng = default_rng()\n",
    "\n",
    "r, sigma, x, K, T = 0, .2, 100, 100, 1\n",
    "dt = T/m\n",
    "\n",
    "def g(x, K=K):\n",
    "    return (x-K) * (x >= K)"
   ]
  },
  {
   "cell_type": "code",
   "execution_count": 152,
   "metadata": {},
   "outputs": [
    {
     "name": "stdout",
     "output_type": "stream",
     "text": [
      "Estimator: 9.420865858094977\n"
     ]
    }
   ],
   "source": [
    "# Tsitsiklis & Van Roy's algorithm\n",
    "\n",
    "# Step 1\n",
    "B = rng.normal(size=m*n).reshape(m,n)\n",
    "X = np.cumprod(np.concatenate([[x*np.ones(n)], 1 + r * dt + sigma * np.sqrt(dt) * B]), axis=0)\n",
    "\n",
    "# Step 2\n",
    "V = np.zeros(n*(m+1)).reshape(m+1,n)\n",
    "V[-1,:] = g(X[-1,:])\n",
    "\n",
    "# Step 3\n",
    "from scipy.optimize import minimize\n",
    "alpha0 = np.zeros(l)\n",
    "for i in range(m-1, 0, -1):\n",
    "    alpha_star = minimize(lambda alpha: np.mean((V[i+1,:] - reg(X[i,:], alpha))**2), alpha0).x\n",
    "    _1 = g(X[i,:])\n",
    "    _2 = reg(X[i,:], alpha_star)\n",
    "    V[i,:] = _1 * (_1 >= _2) + _2 * (_1 < _2)\n",
    "\n",
    "# Step 4\n",
    "_1 = g(x)\n",
    "_2 = np.mean(V[1,:])\n",
    "V0 = _1 * (_1 > _2) + _2 * (_1 <= _2)\n",
    "\n",
    "print(\"Estimator:\", V0)"
   ]
  },
  {
   "cell_type": "code",
   "execution_count": 153,
   "metadata": {},
   "outputs": [
    {
     "name": "stdout",
     "output_type": "stream",
     "text": [
      "Estimator: 7.703291271565558\n",
      "Standard deviation: 0.10204914340688298\n",
      "Condidence interval 95%: [7.50327495 7.90330759]\n",
      "Error: 2.5965047150143765 %\n"
     ]
    }
   ],
   "source": [
    "# Longstaff & Schwartz's algorithm\n",
    "\n",
    "# Step 2\n",
    "V2 = np.zeros(n*(m+1)).reshape((m+1),n)\n",
    "V2[-1,:] = g(X[-1,:])\n",
    "\n",
    "alpha_tau = np.zeros(l*(m+1)).reshape((m+1),l)\n",
    "\n",
    "# Step 3\n",
    "alpha0 = np.zeros(l)\n",
    "for i in range(m-1, 0, -1):\n",
    "    alpha_tau[i,:] = minimize(lambda alpha: np.mean((V2[i+1,:] - reg(X[i,:], alpha))**2), alpha0).x\n",
    "    _1 = g(X[i,:])\n",
    "    _2 = reg(X[i,:], alpha_tau[i,:])\n",
    "    V2[i,:] = _1 * (_1 >= _2) + V2[(i+1),:] * (_1 < _2)\n",
    "\n",
    "# Step 4 (not used)\n",
    "_1 = g(x)\n",
    "_2 = np.mean(V2[1,:])\n",
    "V02 = np.mean(_1 * (_1 > _2) + V2[1,:] * (_1 <= _2))\n",
    "\n",
    "# Step 5\n",
    "B2 = rng.normal(size=m*n).reshape(m,n)\n",
    "X2 = np.cumprod(np.concatenate([[x*np.ones(n)], 1 + r * dt + sigma * np.sqrt(dt) * B2]), axis=0)\n",
    "\n",
    "V3 = np.zeros(n*(m+1)).reshape((m+1),n)\n",
    "V3[-1,:] = g(X2[-1,:])\n",
    "\n",
    "for i in range(m-1, 0, -1):\n",
    "    _1 = g(X2[i,:])\n",
    "    _2 = reg(X2[i,:], alpha_tau[i,:])\n",
    "    V3[i,:] = _1 * (_1 >= _2) + V3[(i+1),:] * (_1 < _2)\n",
    "\n",
    "_1 = g(x)\n",
    "_2 = np.mean(V3[1,:])\n",
    "V03_ = _1 * (_1 > _2) + V3[1,:] * (_1 <= _2)\n",
    "\n",
    "V03 = np.mean(V03_)\n",
    "std = np.std(V03_)\n",
    "conv_interval = V03 + np.array([-1,1]) * 1.96 * std / np.sqrt(n)\n",
    "\n",
    "print(\"Estimator:\", V03)\n",
    "print(\"Standard deviation:\", std / np.sqrt(n))\n",
    "print(\"Condidence interval 95%:\", conv_interval)\n",
    "print(\"Error:\", 100 * 1.96 * std / (V03 * np.sqrt(n)), \"%\")"
   ]
  },
  {
   "cell_type": "markdown",
   "metadata": {},
   "source": [
    "# Martingales from Approximate Value Functions"
   ]
  },
  {
   "cell_type": "code",
   "execution_count": 154,
   "metadata": {},
   "outputs": [
    {
     "name": "stdout",
     "output_type": "stream",
     "text": [
      "8.533557622086267\n"
     ]
    }
   ],
   "source": [
    "n2 = n\n",
    "\n",
    "B_upperbound = rng.normal(size=m)\n",
    "X_upperbound = np.cumprod(np.concatenate([[x], 1 + r * dt + sigma * np.sqrt(dt) * B_upperbound]), axis=0)\n",
    "Normal = rng.normal(size=m*n2).reshape(m,n2)\n",
    "M = np.zeros(m+1)\n",
    "Mi = 0\n",
    "\n",
    "for i in range(1, m):\n",
    "    V_upperbound = max(g(X_upperbound[i]), reg(X_upperbound[i], alpha_tau[i,:]))\n",
    "    X_next = X_upperbound[i-1] * (1 + r * dt + sigma * np.sqrt(dt) * Normal[i-1,:])\n",
    "    V_Ynext = np.maximum(g(X_next), reg(X_next, alpha_tau[i,:]))\n",
    "    delta = V_upperbound - np.mean(V_Ynext)\n",
    "    Mi += delta\n",
    "    M[i] = Mi\n",
    "\n",
    "X_next = X_upperbound[-2] * (1 + r * dt + sigma * np.sqrt(dt) * Normal[-1,:])\n",
    "delta = g(X_upperbound[-1]) - np.mean(g(X_next))\n",
    "Mi += delta\n",
    "M[-1] = Mi\n",
    "\n",
    "V0_upperbound = np.max(g(X_upperbound) - M)\n",
    "\n",
    "print(V0_upperbound)"
   ]
  },
  {
   "cell_type": "markdown",
   "metadata": {},
   "source": [
    "# Martingales from Stopping Rules"
   ]
  },
  {
   "cell_type": "code",
   "execution_count": 155,
   "metadata": {},
   "outputs": [
    {
     "name": "stdout",
     "output_type": "stream",
     "text": [
      "7.964040011602146\n"
     ]
    }
   ],
   "source": [
    "n2 = n\n",
    "\n",
    "Normal = rng.normal(size=m*n*n2).reshape(m,n,n2)\n",
    "M = np.zeros(n*(m+1)).reshape(n,m+1)\n",
    "Mi = 0 #??\n",
    "\n",
    "for i in range(1, m):\n",
    "    V_upperbound = max(g(X_upperbound[i]), reg(X_upperbound[i], alpha_tau[i,:]))\n",
    "    X_next = X_upperbound[i-1] * (1 + r * dt + sigma * np.sqrt(dt) * Normal[i-1,:])\n",
    "    V_Ynext = np.maximum(g(X_next), reg(X_next, alpha_tau[i,:]))\n",
    "    delta = V_upperbound - np.mean(V_Ynext)\n",
    "    Mi += delta\n",
    "    M[i] = Mi\n",
    "\n",
    "X_next = X_upperbound[-2] * (1 + r * dt + sigma * np.sqrt(dt) * Normal[-1,:])\n",
    "delta = g(X_upperbound[-1]) - np.mean(g(X_next))\n",
    "Mi += delta\n",
    "M[-1] = Mi\n",
    "\n",
    "V0_upperbound = np.max(g(X_upperbound) - M)\n",
    "\n",
    "print(V0_upperbound)"
   ]
  },
  {
   "cell_type": "markdown",
   "metadata": {},
   "source": [
    "# Finite difference"
   ]
  },
  {
   "cell_type": "code",
   "execution_count": null,
   "metadata": {},
   "outputs": [],
   "source": []
  }
 ],
 "metadata": {
  "kernelspec": {
   "display_name": "Python 3",
   "language": "python",
   "name": "python3"
  },
  "language_info": {
   "codemirror_mode": {
    "name": "ipython",
    "version": 3
   },
   "file_extension": ".py",
   "mimetype": "text/x-python",
   "name": "python",
   "nbconvert_exporter": "python",
   "pygments_lexer": "ipython3",
   "version": "3.10.6"
  }
 },
 "nbformat": 4,
 "nbformat_minor": 2
}
